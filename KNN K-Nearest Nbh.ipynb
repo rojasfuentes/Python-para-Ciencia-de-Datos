{
 "cells": [
  {
   "cell_type": "code",
   "execution_count": 3,
   "id": "12c4957d",
   "metadata": {},
   "outputs": [],
   "source": [
    "#Clasifica cada punto en una categoria basandose en la categoria de sus vecinos más cercanos \n",
    "from sklearn.neighbors import KNeighborsClassifier\n",
    "import numpy as np\n",
    "import pandas as pd\n",
    "\n",
    "df = pd.read_csv(\"C:/Users/Mayo/Documents/base_datos_2008.csv\", nrows=1e6)"
   ]
  },
  {
   "cell_type": "code",
   "execution_count": 4,
   "id": "67414862",
   "metadata": {},
   "outputs": [],
   "source": [
    "#Nuevo data ser\n",
    "newdf =df[[\"AirTime\",\"Distance\",\"TaxiOut\",\"ArrDelay\"]].dropna() #Eliminamos datos faltantes\n",
    "#Indicamos todas las columnas que no son nuestrra variable respuesta \n",
    "cols= newdf[newdf.columns[newdf.columns != \"ArrDelay\"]]"
   ]
  },
  {
   "cell_type": "code",
   "execution_count": 5,
   "id": "546a95aa",
   "metadata": {},
   "outputs": [],
   "source": [
    "#Separamos entre vuelos que se retrasaron mas de 10 min \n",
    "filtro = newdf[\"ArrDelay\"] > 10"
   ]
  },
  {
   "cell_type": "code",
   "execution_count": 7,
   "id": "2ff68ff5",
   "metadata": {},
   "outputs": [],
   "source": [
    "#Ponemos etiquetas para nuestros casos \n",
    "newdf[\"ArrDelay\"][filtro] = \"Delayed\"\n",
    "newdf[\"ArrDelay\"][filtro == False] = \"Not Delayed\""
   ]
  },
  {
   "cell_type": "code",
   "execution_count": 8,
   "id": "981be606",
   "metadata": {},
   "outputs": [
    {
     "data": {
      "text/plain": [
       "0    Not Delayed\n",
       "1    Not Delayed\n",
       "2        Delayed\n",
       "3    Not Delayed\n",
       "4        Delayed\n",
       "Name: ArrDelay, dtype: object"
      ]
     },
     "execution_count": 8,
     "metadata": {},
     "output_type": "execute_result"
    }
   ],
   "source": [
    "#Obvservamos la variable respuesta\n",
    "newdf[\"ArrDelay\"].head()"
   ]
  },
  {
   "cell_type": "code",
   "execution_count": 13,
   "id": "27cc0386",
   "metadata": {},
   "outputs": [],
   "source": [
    "#Para ajustar el modelo se utiliza la siguiente funcion, indicamos el numero de vecinos que queremops y el numero de nucleos \n",
    "#que vamos a utilizar\n",
    "nbrs_3 =KNeighborsClassifier(n_neighbors=3)"
   ]
  },
  {
   "cell_type": "code",
   "execution_count": 14,
   "id": "81dbf601",
   "metadata": {},
   "outputs": [
    {
     "data": {
      "text/plain": [
       "KNeighborsClassifier(n_neighbors=3)"
      ]
     },
     "execution_count": 14,
     "metadata": {},
     "output_type": "execute_result"
    }
   ],
   "source": [
    "#Utiliza nuestras variables para predecir nuestra columna respuesta\n",
    "nbrs_3.fit(cols,newdf[\"ArrDelay\"])"
   ]
  },
  {
   "cell_type": "code",
   "execution_count": 16,
   "id": "4efa0142",
   "metadata": {},
   "outputs": [],
   "source": [
    "#Generamos las predicicones que podemos utilizar usando este modelo\n",
    "predicciones_3 = nbrs_3.predict(cols)"
   ]
  },
  {
   "cell_type": "code",
   "execution_count": 17,
   "id": "ad12763e",
   "metadata": {},
   "outputs": [
    {
     "data": {
      "text/plain": [
       "0.8033585363402913"
      ]
     },
     "execution_count": 17,
     "metadata": {},
     "output_type": "execute_result"
    }
   ],
   "source": [
    "#Nos dice el porcentaje de datos que clasificamos correctamente\n",
    "np.mean(predicciones_3 == newdf[\"ArrDelay\"])"
   ]
  },
  {
   "cell_type": "code",
   "execution_count": 19,
   "id": "bdd4b347",
   "metadata": {},
   "outputs": [
    {
     "data": {
      "text/plain": [
       "0.6912450368307814"
      ]
     },
     "execution_count": 19,
     "metadata": {},
     "output_type": "execute_result"
    }
   ],
   "source": [
    "#Porcentaje de vuelos que no se han retrasado\n",
    "np.mean(newdf[\"ArrDelay\"]==\"Not Delayed\")\n",
    "#el modelo aumenta en 10% la predicción más de lo que podria hacerlo la media "
   ]
  },
  {
   "cell_type": "code",
   "execution_count": 20,
   "id": "fa5bbaff",
   "metadata": {},
   "outputs": [
    {
     "data": {
      "text/plain": [
       "0.833027230227863"
      ]
     },
     "execution_count": 20,
     "metadata": {},
     "output_type": "execute_result"
    }
   ],
   "source": [
    "nbrs_1 =KNeighborsClassifier(n_neighbors=1)\n",
    "nbrs_1.fit(cols,newdf[\"ArrDelay\"])\n",
    "predicciones_1 = nbrs_1.predict(cols)\n",
    "np.mean(predicciones_1 == newdf[\"ArrDelay\"])"
   ]
  },
  {
   "cell_type": "code",
   "execution_count": 23,
   "id": "799d673a",
   "metadata": {},
   "outputs": [
    {
     "name": "stdout",
     "output_type": "stream",
     "text": [
      "[[217673  80387]\n",
      " [ 80802 586499]]\n"
     ]
    }
   ],
   "source": [
    "from sklearn.metrics import confusion_matrix\n",
    "confusion_matrix = confusion_matrix(newdf[\"ArrDelay\"], predicciones_1)\n",
    "print(confusion_matrix)\n",
    "#Vemos los valores reales de nuestra variable (retrasados y no retrasados y los que predijo el modelo)\n",
    "# [No de vuelos que se retrasan y predecimos que sew retrasan, Vuelos que se retrasaban pero el modelo indica que no]\n",
    "#[Vuelos que no se retrasaban, pero el modelo predijo que si , No de vuelos que no se retrasan y hemos predecido que no se retrasas  ]"
   ]
  },
  {
   "cell_type": "code",
   "execution_count": null,
   "id": "4182cebf",
   "metadata": {},
   "outputs": [],
   "source": []
  }
 ],
 "metadata": {
  "kernelspec": {
   "display_name": "Python 3 (ipykernel)",
   "language": "python",
   "name": "python3"
  },
  "language_info": {
   "codemirror_mode": {
    "name": "ipython",
    "version": 3
   },
   "file_extension": ".py",
   "mimetype": "text/x-python",
   "name": "python",
   "nbconvert_exporter": "python",
   "pygments_lexer": "ipython3",
   "version": "3.9.12"
  }
 },
 "nbformat": 4,
 "nbformat_minor": 5
}
