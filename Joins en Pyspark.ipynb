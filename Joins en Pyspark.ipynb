{
 "cells": [
  {
   "cell_type": "code",
   "execution_count": null,
   "id": "f940d530",
   "metadata": {},
   "outputs": [],
   "source": [
    "from pyspark import SparkConf, SparkContext\n",
    "#Generamos objeto de configuracion y objeto de contexto \n",
    "conf = SparkConf().setMaster(\"local\").setAppName(\"Mi programa\")\n",
    "sc = SparkContext(conf = conf)"
   ]
  },
  {
   "cell_type": "code",
   "execution_count": null,
   "id": "1d6de2b1",
   "metadata": {},
   "outputs": [],
   "source": [
    "#creamos los objetos con la funcion parallelize\n",
    "x = sc.parallelize([(\"a\", 5), (\"b\", 6), (\"c\", 7),(\"d\", 8)])\n",
    "y= sc.parallelize[(\"a\",1), (\"a\",2), (\"c\",3)]"
   ]
  },
  {
   "cell_type": "code",
   "execution_count": null,
   "id": "c4e6280c",
   "metadata": {},
   "outputs": [],
   "source": [
    "#Son los objetos que comparten los objetos que estamos creando \n",
    "x.join(y).collect()"
   ]
  },
  {
   "cell_type": "code",
   "execution_count": null,
   "id": "5eb64ef8",
   "metadata": {},
   "outputs": [],
   "source": [
    "#Ocurre lo mismo pero en diferente orden\n",
    "y.join(x).collect()"
   ]
  },
  {
   "cell_type": "code",
   "execution_count": null,
   "id": "a82e0d2c",
   "metadata": {},
   "outputs": [],
   "source": [
    "#Aparecen solo las claves del objeto y\n",
    "y.leftOuterJoin(x).collect()"
   ]
  },
  {
   "cell_type": "code",
   "execution_count": null,
   "id": "ddb33f0b",
   "metadata": {},
   "outputs": [],
   "source": [
    "#Aparecen las claves del objeto x\n",
    "x.leftOuterJoin(y).collect()"
   ]
  },
  {
   "cell_type": "code",
   "execution_count": null,
   "id": "fc1089bf",
   "metadata": {},
   "outputs": [],
   "source": [
    "#Funciona igual pero en orden inverso\n",
    "x.rightOuterJoin(y).collect()"
   ]
  }
 ],
 "metadata": {
  "kernelspec": {
   "display_name": "Python 3 (ipykernel)",
   "language": "python",
   "name": "python3"
  },
  "language_info": {
   "codemirror_mode": {
    "name": "ipython",
    "version": 3
   },
   "file_extension": ".py",
   "mimetype": "text/x-python",
   "name": "python",
   "nbconvert_exporter": "python",
   "pygments_lexer": "ipython3",
   "version": "3.9.12"
  }
 },
 "nbformat": 4,
 "nbformat_minor": 5
}
