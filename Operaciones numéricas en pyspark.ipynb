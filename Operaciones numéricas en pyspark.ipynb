{
 "cells": [
  {
   "cell_type": "code",
   "execution_count": null,
   "id": "96df2f8b",
   "metadata": {},
   "outputs": [],
   "source": [
    "from pyspark import SparkConf, SparkContext\n",
    "from pyspark.sql.types import StringType\n",
    "from pyspark import SQLContext\n",
    "import numpy as np\n",
    "\n",
    "conf= SparkConf().setMaster(\"local\").setAppName(\"Mi programa\")\n",
    "sc = SparkContext(conf = conf)\n",
    "sqlContext = SQLContext(sc)\n",
    "\n",
    "dfspark = sqlContext.read.format(\"csv\").option(\"header\", \"true\").option(\"inferSchema\", \"true\").load(\"C:/Users/Mayo/Documents/base_datos_2008.csv\")\n",
    "dfspark.spark.sample(fraction = 0.001, withReplacement = False)\n",
    "dfspark = dfspark.witColumn(\"ArrDelay\", dfspark[\"ArrDelay\"].cast(\"integer\"))\n",
    "\n",
    "\n",
    "df2 = dfspark.na.drop(subset = [\"ArrDelay\", \"DepDelay\", \"Distance\"])\n",
    "df2 = df2.filter(\"ArrDelay is not Null\")\n",
    "df2 = df2.dropDuplicates()"
   ]
  },
  {
   "cell_type": "code",
   "execution_count": null,
   "id": "fa3a4de0",
   "metadata": {},
   "outputs": [],
   "source": [
    "lista = sc.parallelize(1,1000000)\n",
    "#Se suman los valores del 1 hasta el millon usando la funcion lambda \n",
    "lista.reduce(lambda x,y:x+y)"
   ]
  },
  {
   "cell_type": "code",
   "execution_count": null,
   "id": "9ccac65d",
   "metadata": {},
   "outputs": [],
   "source": [
    "lista.sum()"
   ]
  },
  {
   "cell_type": "code",
   "execution_count": null,
   "id": "1e87c2ec",
   "metadata": {},
   "outputs": [],
   "source": [
    "from pyspark.sql.functions import mean, stddev, col\n",
    "media = df2.select(mean(col('ArrDelay'))).collect()\n",
    "#Desviacion estandar\n",
    "std = df2.select(stddev(col('ArrDelay'))).collect()"
   ]
  },
  {
   "cell_type": "code",
   "execution_count": null,
   "id": "bcbe3361",
   "metadata": {},
   "outputs": [],
   "source": [
    "std"
   ]
  },
  {
   "cell_type": "code",
   "execution_count": null,
   "id": "5add62be",
   "metadata": {},
   "outputs": [],
   "source": [
    "std[0][0]"
   ]
  },
  {
   "cell_type": "code",
   "execution_count": null,
   "id": "dbf65de5",
   "metadata": {},
   "outputs": [],
   "source": [
    "#resta entre llegada y salida\n",
    "df2.withColumn('Diferencia', df2['ArrDelay'] - df2['DepDelay'].collect())"
   ]
  },
  {
   "cell_type": "code",
   "execution_count": null,
   "id": "db71fb3f",
   "metadata": {},
   "outputs": [],
   "source": [
    "#Estandard de la llegada y salida\n",
    "#Seleccionamos todos los valores de la columna ArrDelay, le restamos la media \n",
    "#y la dividimos entre la desviacion estandard\n",
    "df2.withColumn('Standard', (df2['ArrDelay'] - media[0][0])/std[0][0]).collect()"
   ]
  }
 ],
 "metadata": {
  "kernelspec": {
   "display_name": "Python 3 (ipykernel)",
   "language": "python",
   "name": "python3"
  },
  "language_info": {
   "codemirror_mode": {
    "name": "ipython",
    "version": 3
   },
   "file_extension": ".py",
   "mimetype": "text/x-python",
   "name": "python",
   "nbconvert_exporter": "python",
   "pygments_lexer": "ipython3",
   "version": "3.9.12"
  }
 },
 "nbformat": 4,
 "nbformat_minor": 5
}
