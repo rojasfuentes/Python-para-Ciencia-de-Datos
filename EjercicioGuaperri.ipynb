{
 "cells": [
  {
   "cell_type": "code",
   "execution_count": 1,
   "id": "70a9a0d7",
   "metadata": {},
   "outputs": [],
   "source": [
    "class analysedText:\n",
    "    def __init__(self, text:str):\n",
    "        self.fmtText = (\n",
    "        text.lower()\n",
    "            .replace(\".\",\"\")\n",
    "            .replace(\",\",\"\")\n",
    "            .replace(\"!\",\"\")\n",
    "            .replace(\"?\",\"\")\n",
    "        )\n",
    "        return \n",
    "    \n",
    "\n",
    "    \n",
    "    def freqAll(self):     \n",
    "        splitText = self.fmtText.split()\n",
    "       \n",
    "        freq = dict.fromkeys(set(splitText), 0)\n",
    "\n",
    "        for k in splitText:\n",
    "            freq[k] += 1\n",
    "\n",
    "        return freq\n",
    "\n",
    "    def freqOf(self, word):\n",
    "        return self.fmtText.count(word)\n",
    "    "
   ]
  },
  {
   "cell_type": "code",
   "execution_count": 2,
   "id": "5026abaf",
   "metadata": {},
   "outputs": [
    {
     "name": "stdout",
     "output_type": "stream",
     "text": [
      "{'fmtText': 'frida tanque maicol maicol maicol wiwi'}\n"
     ]
    },
    {
     "data": {
      "text/plain": [
       "{'tanque': 1, 'frida': 1, 'wiwi': 1, 'maicol': 3}"
      ]
     },
     "execution_count": 2,
     "metadata": {},
     "output_type": "execute_result"
    }
   ],
   "source": [
    "Test = analysedText(\"FRIDA? TANQUE MAICOL MAICOL MAICOL WIWI\")\n",
    "print(vars(Test))\n",
    "Test.fmtText\n",
    "\n",
    "Test.freqAll()\n"
   ]
  },
  {
   "cell_type": "code",
   "execution_count": 3,
   "id": "24062fe3",
   "metadata": {},
   "outputs": [
    {
     "data": {
      "text/plain": [
       "3"
      ]
     },
     "execution_count": 3,
     "metadata": {},
     "output_type": "execute_result"
    }
   ],
   "source": [
    "Test.freqOf(\"maicol\")"
   ]
  },
  {
   "cell_type": "code",
   "execution_count": null,
   "id": "43269d48",
   "metadata": {},
   "outputs": [],
   "source": []
  }
 ],
 "metadata": {
  "kernelspec": {
   "display_name": "Python 3 (ipykernel)",
   "language": "python",
   "name": "python3"
  },
  "language_info": {
   "codemirror_mode": {
    "name": "ipython",
    "version": 3
   },
   "file_extension": ".py",
   "mimetype": "text/x-python",
   "name": "python",
   "nbconvert_exporter": "python",
   "pygments_lexer": "ipython3",
   "version": "3.9.12"
  }
 },
 "nbformat": 4,
 "nbformat_minor": 5
}
