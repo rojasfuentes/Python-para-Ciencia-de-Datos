{
 "cells": [
  {
   "cell_type": "code",
   "execution_count": null,
   "id": "e1f49225",
   "metadata": {},
   "outputs": [],
   "source": [
    "from pyspark import SparkConf, SparkContext\n",
    "#Generamos objeto de configuracion y objeto de contexto \n",
    "conf = SparkConf().setMaster(\"local\").setAppName(\"Mi programa\")\n",
    "sc = SparkContext(conf = conf)\n",
    "lines = sc.textFile(\"ejemplo.txt\")"
   ]
  },
  {
   "cell_type": "code",
   "execution_count": null,
   "id": "a6eb828e",
   "metadata": {},
   "outputs": [],
   "source": [
    "#Los acumulkadores son valores que permiten incrementar o decrementando su valor \n",
    "#Se definen de la siguiente manera \n",
    "py = sc.acumulator(0)\n",
    "sp = sc.accumulator(0)"
   ]
  },
  {
   "cell_type": "code",
   "execution_count": null,
   "id": "39bc9757",
   "metadata": {},
   "outputs": [],
   "source": [
    "#Creamos una funcion que cuente cuantas veces aparecen las palabras en el archivo de texto \n",
    "def lenguajes(linea:):\n",
    "    global py, sp\n",
    "    if \"Python\" in linea:\n",
    "        py += 1\n",
    "        if \"Spark\" in linea:\n",
    "        sp += 1\n",
    "        return True\n",
    "    if \"Spark\" in linea:\n",
    "        sp += 1\n",
    "        return True\n",
    "    else:\n",
    "        return False \n",
    "    \n",
    "valores = lines.filter(lenguajes)"
   ]
  },
  {
   "cell_type": "code",
   "execution_count": null,
   "id": "52008c59",
   "metadata": {},
   "outputs": [],
   "source": [
    "valores.count()"
   ]
  },
  {
   "cell_type": "code",
   "execution_count": null,
   "id": "f3601108",
   "metadata": {},
   "outputs": [],
   "source": [
    "py"
   ]
  },
  {
   "cell_type": "code",
   "execution_count": null,
   "id": "8f1d33f9",
   "metadata": {},
   "outputs": [],
   "source": [
    "sp"
   ]
  },
  {
   "cell_type": "code",
   "execution_count": null,
   "id": "0e789d0e",
   "metadata": {},
   "outputs": [],
   "source": [
    "functionmap = valores.map(lambda x; (x,1))"
   ]
  },
  {
   "cell_type": "code",
   "execution_count": null,
   "id": "84d2f80f",
   "metadata": {},
   "outputs": [],
   "source": [
    "contravalores = funcionmap.reduceByKey(lambda x,y: x+y)"
   ]
  },
  {
   "cell_type": "code",
   "execution_count": null,
   "id": "45973f92",
   "metadata": {},
   "outputs": [],
   "source": [
    "contravalores.count()"
   ]
  },
  {
   "cell_type": "code",
   "execution_count": null,
   "id": "90246678",
   "metadata": {},
   "outputs": [],
   "source": [
    "contravalores.sortBy(lambda x: x[1], ascending = False).take(5)"
   ]
  },
  {
   "cell_type": "code",
   "execution_count": null,
   "id": "2fae3019",
   "metadata": {},
   "outputs": [],
   "source": [
    "def lenguajes_map(x):\n",
    "    if \"Python\" in x and \"Spark\" in x:\n",
    "        return (\"Count\",(1,1))\n",
    "    elif \"Python\" in x:\n",
    "        return (\"Count\", (1,0))\n",
    "    elif \"Spark\" in x:\n",
    "        return (\"Count\", (0,1))\n",
    "    else:\n",
    "        return (\"Count\", (0,0))\n",
    "    \n",
    "mapfun = lines.map(lenguajes_map)"
   ]
  },
  {
   "cell_type": "code",
   "execution_count": null,
   "id": "2a2acf5a",
   "metadata": {},
   "outputs": [],
   "source": [
    "mapfun.count()"
   ]
  },
  {
   "cell_type": "code",
   "execution_count": null,
   "id": "a5b8b3ff",
   "metadata": {},
   "outputs": [],
   "source": [
    "lines.count()"
   ]
  },
  {
   "cell_type": "code",
   "execution_count": null,
   "id": "5a7c26d1",
   "metadata": {},
   "outputs": [],
   "source": [
    "mapfun.reduceByKey(lambda x,y: (x[0]+y[0], x[1]+y[1])).collect()"
   ]
  }
 ],
 "metadata": {
  "kernelspec": {
   "display_name": "Python 3 (ipykernel)",
   "language": "python",
   "name": "python3"
  },
  "language_info": {
   "codemirror_mode": {
    "name": "ipython",
    "version": 3
   },
   "file_extension": ".py",
   "mimetype": "text/x-python",
   "name": "python",
   "nbconvert_exporter": "python",
   "pygments_lexer": "ipython3",
   "version": "3.9.12"
  }
 },
 "nbformat": 4,
 "nbformat_minor": 5
}
