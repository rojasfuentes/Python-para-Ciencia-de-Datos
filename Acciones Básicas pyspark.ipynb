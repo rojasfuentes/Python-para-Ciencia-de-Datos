{
 "cells": [
  {
   "cell_type": "code",
   "execution_count": null,
   "id": "589449f5",
   "metadata": {},
   "outputs": [],
   "source": [
    "from pyspark import SparkConf, SparkContext\n",
    "from pyspark.sql.types import StringType\n",
    "from pyspark import SQLContext\n",
    "import numpy as np\n",
    "\n",
    "conf= SparkConf().setMaster(\"local\").setAppName(\"Mi programa\")\n",
    "sc = SparkContext(conf = conf)\n",
    "sqlContext = SQLContext(sc)\n",
    "\n",
    "dfspark = sqlContext.read.format(\"csv\").option(\"header\", \"true\").option(\"inferSchema\", \"true\").load(\"C:/Users/Mayo/Documents/base_datos_2008.csv\")\n",
    "dfspark.spark.sample(fraction = 0.001, withReplacement = False)\n",
    "dfspark = dfspark.witColumn(\"ArrDelay\", dfspark[\"ArrDelay\"].cast(\"integer\"))\n",
    "\n",
    "\n",
    "df2 = dfspark.na.drop(subset = [\"ArrDelay\", \"DepDelay\", \"Distance\"])\n",
    "df2 = df2.filter(\"ArrDelay is not Null\")\n",
    "df2 = df2.dropDuplicates()"
   ]
  },
  {
   "cell_type": "code",
   "execution_count": null,
   "id": "d6809c57",
   "metadata": {},
   "outputs": [],
   "source": [
    "#Tabla resumen de uno de los principales datos cuantitativos de nuestro df\n",
    "df2.select(\"ArrDelay\").describe().show()\n",
    "#Nos permite hacernos una idea general de como esta distribuida la variable"
   ]
  },
  {
   "cell_type": "code",
   "execution_count": null,
   "id": "0f4e8f31",
   "metadata": {},
   "outputs": [],
   "source": [
    "#Lista de ocurrencias para una variable categorica\n",
    "df2.select(\"Origin\").rdd.countByValue()"
   ]
  },
  {
   "cell_type": "code",
   "execution_count": null,
   "id": "e84ee0c5",
   "metadata": {},
   "outputs": [],
   "source": [
    "df2.select(\"ArrDelat\").rdd.max()"
   ]
  },
  {
   "cell_type": "code",
   "execution_count": null,
   "id": "076b5941",
   "metadata": {},
   "outputs": [],
   "source": [
    "#Collect se usa para obtener una lista completa de la columna \n",
    "df2.select(\"Origin\").rdd.collect()"
   ]
  },
  {
   "cell_type": "code",
   "execution_count": null,
   "id": "b1d9c036",
   "metadata": {},
   "outputs": [],
   "source": [
    "#Tabla de contingencia entre dos vriables\n",
    "df2.crosstab(\"DatOfWeek\", \"Origin\").take(2)"
   ]
  }
 ],
 "metadata": {
  "kernelspec": {
   "display_name": "Python 3 (ipykernel)",
   "language": "python",
   "name": "python3"
  },
  "language_info": {
   "codemirror_mode": {
    "name": "ipython",
    "version": 3
   },
   "file_extension": ".py",
   "mimetype": "text/x-python",
   "name": "python",
   "nbconvert_exporter": "python",
   "pygments_lexer": "ipython3",
   "version": "3.9.12"
  }
 },
 "nbformat": 4,
 "nbformat_minor": 5
}
