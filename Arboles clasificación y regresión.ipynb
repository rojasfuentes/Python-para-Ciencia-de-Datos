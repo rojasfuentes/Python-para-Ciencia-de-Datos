{
 "cells": [
  {
   "cell_type": "code",
   "execution_count": 2,
   "id": "6dd8c168",
   "metadata": {},
   "outputs": [],
   "source": [
    "from sklearn import tree\n",
    "import numpy as np\n",
    "import pandas as pd\n",
    "from sklearn.metrics import r2_score\n",
    "#La ultima función nos ayuda a calcular la eficiencia de los modelos numericos\n",
    "\n",
    "df = pd.read_csv(\"C:/Users/Mayo/Documents/base_datos_2008.csv\")\n",
    "df = df.dropna(subset=[\"ArrDelay\"])\n",
    "#Reordenamosa los datos\n",
    "df = df.sample(frac=1)\n",
    "#Dividimos en dos df, uno para los primeros 500 000 datos y otro para los ultimos\n",
    "dftest = df.tail(500000)\n",
    "df= df.head(500000)"
   ]
  },
  {
   "cell_type": "code",
   "execution_count": 7,
   "id": "603d0aad",
   "metadata": {},
   "outputs": [],
   "source": [
    "#Creamos un objeto\n",
    "clf = tree.DecisionTreeClassifier()\n",
    "\n",
    "X=df[[\"Distance\", \"AirTime\", \"DepTime\", \"TaxiIn\", \"TaxiOut\", \"DepDelay\"]]\n",
    "X_test= dftest[[\"Distance\", \"AirTime\", \"DepTime\", \"TaxiIn\", \"TaxiOut\", \"DepDelay\"]]\n",
    "Y = df[\"ArrDelay\"] >10\n",
    "Y_test = dftest[\"ArrDelay\"]>10\n",
    "\n",
    "#Utilizamos la función de abajo para entrenar el objeto con nuestras variables regresoras (X) y nuestras variables respuesta (Y)\n",
    "clf=clf.fit(X,Y)\n",
    "Y_pred = clf.fit(X, Y)\n",
    "#Obtenemos predicciones \n",
    "Y_pred = clf.predict(X)\n",
    "#Usamos la validacion externa\n",
    "Y_pred_test = clf.predict(X_test)"
   ]
  },
  {
   "cell_type": "code",
   "execution_count": 8,
   "id": "33f7e026",
   "metadata": {},
   "outputs": [
    {
     "data": {
      "text/plain": [
       "0.999998"
      ]
     },
     "execution_count": 8,
     "metadata": {},
     "output_type": "execute_result"
    }
   ],
   "source": [
    "#Porcentaje de datos que clasifica correctamente nuestro modelo \n",
    "np.mean(Y == Y_pred)"
   ]
  },
  {
   "cell_type": "code",
   "execution_count": 9,
   "id": "1f1a5329",
   "metadata": {},
   "outputs": [
    {
     "data": {
      "text/plain": [
       "0.893684"
      ]
     },
     "execution_count": 9,
     "metadata": {},
     "output_type": "execute_result"
    }
   ],
   "source": [
    "#Porcentaje de datos que clasifica correctamente nuestro modelo  basandonos en la validacion externa\n",
    "np.mean(Y_test == Y_pred_test)"
   ]
  },
  {
   "cell_type": "code",
   "execution_count": 10,
   "id": "853cfc6d",
   "metadata": {},
   "outputs": [
    {
     "name": "stdout",
     "output_type": "stream",
     "text": [
      "R cuadrado:  0.9999981552659097\n",
      "R cuadrado test:  0.8944448765447246\n"
     ]
    }
   ],
   "source": [
    "#Respuesta numérica, los minutos que se retraso el vuelo\n",
    "clf = tree.DecisionTreeRegressor()\n",
    "\n",
    "Y= df[\"ArrDelay\"]\n",
    "\n",
    "Y_test = dftest[\"ArrDelay\"]\n",
    "\n",
    "clf = clf.fit(X, Y)\n",
    "Y_pred = clf.predict(X)\n",
    "Y_pred_test = clf.predict(X_test)\n",
    "\n",
    "#Metrica de comparacion, es el porcentaje de varianza explicado por el modelo \n",
    "#Datos internos\n",
    "print(\"R cuadrado: \",r2_score(Y, Y_pred))\n",
    "#Datos externos \n",
    "print(\"R cuadrado test: \",r2_score(Y_test, Y_pred_test))"
   ]
  },
  {
   "cell_type": "code",
   "execution_count": null,
   "id": "6e89d523",
   "metadata": {},
   "outputs": [],
   "source": []
  }
 ],
 "metadata": {
  "kernelspec": {
   "display_name": "Python 3 (ipykernel)",
   "language": "python",
   "name": "python3"
  },
  "language_info": {
   "codemirror_mode": {
    "name": "ipython",
    "version": 3
   },
   "file_extension": ".py",
   "mimetype": "text/x-python",
   "name": "python",
   "nbconvert_exporter": "python",
   "pygments_lexer": "ipython3",
   "version": "3.9.12"
  }
 },
 "nbformat": 4,
 "nbformat_minor": 5
}
