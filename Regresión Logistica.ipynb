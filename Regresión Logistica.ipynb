{
 "cells": [
  {
   "cell_type": "code",
   "execution_count": 1,
   "id": "8bc284fe",
   "metadata": {},
   "outputs": [],
   "source": [
    "import pandas as pd\n",
    "import numpy as np\n",
    "from sklearn.linear_model import LogisticRegression\n",
    "from sklearn.metrics import confusion_matrix\n",
    "import matplotlib.pyplot as plt\n",
    "\n",
    "df = pd.read_csv(\"C:/Users/Mayo/Documents/base_datos_2008.csv\")"
   ]
  },
  {
   "cell_type": "code",
   "execution_count": 2,
   "id": "5fd12928",
   "metadata": {},
   "outputs": [],
   "source": [
    "df = df.dropna(subset = [\"ArrDelay\"])\n",
    "df = df.sample(frac=1).head(100000)\n",
    "Y = df[\"ArrDelay\"] < 30  #True =1 / False = 0 // Interpretación sin retraso notable\n",
    "X = df[[\"DepDelay\"]]"
   ]
  },
  {
   "cell_type": "code",
   "execution_count": 4,
   "id": "43fcb6e8",
   "metadata": {},
   "outputs": [],
   "source": [
    "#Ajustamos el modelo\n",
    "logreg = LogisticRegression()\n",
    "logreg.fit(X,Y)\n",
    "Y_pred = logreg.predict(X)"
   ]
  },
  {
   "cell_type": "code",
   "execution_count": 5,
   "id": "50b13d86",
   "metadata": {},
   "outputs": [
    {
     "data": {
      "text/plain": [
       "array([[0.011, 0.989],\n",
       "       [0.021, 0.979],\n",
       "       [0.016, 0.984],\n",
       "       ...,\n",
       "       [0.014, 0.986],\n",
       "       [1.   , 0.   ],\n",
       "       [0.01 , 0.99 ]])"
      ]
     },
     "execution_count": 5,
     "metadata": {},
     "output_type": "execute_result"
    }
   ],
   "source": [
    "np.round(logreg.predict_proba(X),3)\n",
    "#Primer parametro es su probabilidd de pertenecr al grupo 0 (con retraso)=, y el segundo es su probabilidad de \n",
    "#pertenecer al grupo 1 (sin retraso)"
   ]
  },
  {
   "cell_type": "code",
   "execution_count": 6,
   "id": "c3b91594",
   "metadata": {},
   "outputs": [
    {
     "data": {
      "text/plain": [
       "0.95624"
      ]
     },
     "execution_count": 6,
     "metadata": {},
     "output_type": "execute_result"
    }
   ],
   "source": [
    "np.mean(Y_pred == Y)\n",
    "#Cuantas predicciones son correctas"
   ]
  },
  {
   "cell_type": "code",
   "execution_count": 7,
   "id": "61754907",
   "metadata": {},
   "outputs": [
    {
     "data": {
      "text/plain": [
       "0.86397"
      ]
     },
     "execution_count": 7,
     "metadata": {},
     "output_type": "execute_result"
    }
   ],
   "source": [
    "np.mean(Y)"
   ]
  },
  {
   "cell_type": "code",
   "execution_count": 8,
   "id": "35168c83",
   "metadata": {},
   "outputs": [
    {
     "name": "stdout",
     "output_type": "stream",
     "text": [
      "[[10310  3293]\n",
      " [ 1083 85314]]\n"
     ]
    }
   ],
   "source": [
    "#Como funciona la variable de confusion\n",
    "#Depende de los valores reales y los valores predictivos \n",
    "confusion_matrix = confusion_matrix(Y, Y_pred)\n",
    "print(confusion_matrix)\n",
    "\n",
    "#El primer dato del array son los datos que son 1 y el segundo de los que son 0 para los datos reales y los datos predictivos "
   ]
  },
  {
   "cell_type": "code",
   "execution_count": null,
   "id": "f6070cfc",
   "metadata": {},
   "outputs": [],
   "source": []
  }
 ],
 "metadata": {
  "kernelspec": {
   "display_name": "Python 3 (ipykernel)",
   "language": "python",
   "name": "python3"
  },
  "language_info": {
   "codemirror_mode": {
    "name": "ipython",
    "version": 3
   },
   "file_extension": ".py",
   "mimetype": "text/x-python",
   "name": "python",
   "nbconvert_exporter": "python",
   "pygments_lexer": "ipython3",
   "version": "3.9.12"
  }
 },
 "nbformat": 4,
 "nbformat_minor": 5
}
