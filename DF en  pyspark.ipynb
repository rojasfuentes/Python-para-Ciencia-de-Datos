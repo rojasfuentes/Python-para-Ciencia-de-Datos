{
 "cells": [
  {
   "cell_type": "code",
   "execution_count": null,
   "id": "9319c7e9",
   "metadata": {},
   "outputs": [],
   "source": [
    "from pyspark import SparkConf, SparkContext\n",
    "conf = SparkConf().setMaster(\"local\").setAppName(\"Mi programa\")\n",
    "#contextop spark\n",
    "sc = SparkContext(conf = conf)"
   ]
  },
  {
   "cell_type": "code",
   "execution_count": null,
   "id": "ac05d7f2",
   "metadata": {},
   "outputs": [],
   "source": [
    "import pandas as pf\n",
    "df= pd.read_csv(\"C:/Users/Mayo/Documents/base_datos_2008.csv\")"
   ]
  },
  {
   "cell_type": "code",
   "execution_count": null,
   "id": "675550af",
   "metadata": {},
   "outputs": [],
   "source": [
    "df.head(2)"
   ]
  },
  {
   "cell_type": "code",
   "execution_count": null,
   "id": "16c223e1",
   "metadata": {},
   "outputs": [],
   "source": [
    "#dataframe en pyspark\n",
    "from pyspark.sql.types import StringType\n",
    "from pyspark import SQLContext\n",
    "#Contexto SQL\n",
    "sqlContext = SQLContext(sc)\n",
    "\n",
    "dfspark = sqlContext.read.format(\"csv\").option(\"header\", \"true\").option(\"inferSchema\", \"true\").load(\"C:/Users/Mayo/Documents/base_datos_2008.csv\")"
   ]
  },
  {
   "cell_type": "code",
   "execution_count": null,
   "id": "0eb96f21",
   "metadata": {},
   "outputs": [],
   "source": [
    "#Show se ve feo\n",
    "dfspark.show(2)"
   ]
  },
  {
   "cell_type": "code",
   "execution_count": null,
   "id": "780baadb",
   "metadata": {},
   "outputs": [],
   "source": [
    "#head es mas bonito\n",
    "dfspark.head(2)"
   ]
  },
  {
   "cell_type": "code",
   "execution_count": null,
   "id": "55377baa",
   "metadata": {},
   "outputs": [],
   "source": [
    "#cuenta cuantas filas se cargaron\n",
    "dfspark.count()"
   ]
  },
  {
   "cell_type": "code",
   "execution_count": null,
   "id": "1c101dba",
   "metadata": {},
   "outputs": [],
   "source": [
    "#Transformamos nuestra bdd en una substraccion de ella \n",
    "dfspark.spark.sample(fraction = 0.001, withReplacement = False)"
   ]
  },
  {
   "cell_type": "code",
   "execution_count": null,
   "id": "ae4f035b",
   "metadata": {},
   "outputs": [],
   "source": [
    "#Reduce el tamaño de nuestra bdd\n",
    "dfspark.count()"
   ]
  },
  {
   "cell_type": "code",
   "execution_count": null,
   "id": "75e8e1e5",
   "metadata": {},
   "outputs": [],
   "source": [
    "#Transformamos el formato al que nos interesa \n",
    "dfspark = dfspark.witColumn(\"ArrDelay\", dfspark[\"ArrDelay\"].cast(\"integer\"))"
   ]
  },
  {
   "cell_type": "code",
   "execution_count": null,
   "id": "196435da",
   "metadata": {},
   "outputs": [],
   "source": [
    "#Eliminamos los datos faltantes\n",
    "df2 = dfspark.na.drop(subset = [\"ArrDelay\", \"DepDelay\", \"Distance\"])"
   ]
  },
  {
   "cell_type": "code",
   "execution_count": null,
   "id": "3a3faf86",
   "metadata": {},
   "outputs": [],
   "source": [
    "#Aseguramos que no esten almacenados como nulls\n",
    "df2 = df2.filter(\"ArrDelay is not Null\")"
   ]
  },
  {
   "cell_type": "code",
   "execution_count": null,
   "id": "22b0bed0",
   "metadata": {},
   "outputs": [],
   "source": [
    "df2.count()"
   ]
  },
  {
   "cell_type": "code",
   "execution_count": null,
   "id": "777f5643",
   "metadata": {},
   "outputs": [],
   "source": [
    "#Nos dice el tipo de variable de cada una de las columnas\n",
    "df2.printSchema()"
   ]
  },
  {
   "cell_type": "code",
   "execution_count": null,
   "id": "576a45a0",
   "metadata": {},
   "outputs": [],
   "source": [
    "import numpy as np\n",
    "media = np.mean(df2.select(\"ArrDelay\").collect())"
   ]
  },
  {
   "cell_type": "code",
   "execution_count": null,
   "id": "f13439c1",
   "metadata": {},
   "outputs": [],
   "source": [
    "media"
   ]
  },
  {
   "cell_type": "code",
   "execution_count": null,
   "id": "313e6170",
   "metadata": {},
   "outputs": [],
   "source": [
    "df2.rdd.getNumPartitions()"
   ]
  }
 ],
 "metadata": {
  "kernelspec": {
   "display_name": "Python 3 (ipykernel)",
   "language": "python",
   "name": "python3"
  },
  "language_info": {
   "codemirror_mode": {
    "name": "ipython",
    "version": 3
   },
   "file_extension": ".py",
   "mimetype": "text/x-python",
   "name": "python",
   "nbconvert_exporter": "python",
   "pygments_lexer": "ipython3",
   "version": "3.9.12"
  }
 },
 "nbformat": 4,
 "nbformat_minor": 5
}
