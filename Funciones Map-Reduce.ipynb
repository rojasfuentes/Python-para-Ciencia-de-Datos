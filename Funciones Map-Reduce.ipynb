{
 "cells": [
  {
   "cell_type": "code",
   "execution_count": null,
   "id": "e3d3718f",
   "metadata": {},
   "outputs": [],
   "source": [
    "from pyspark import SparkConf, SparkContext\n",
    "from pyspark.sql.types import StringType\n",
    "from pyspark import SQLContext\n",
    "\n",
    "conf= SparkConf().setMaster(\"local\").setAppName(\"Mi programa\")\n",
    "sc = SparkContext(conf = conf)\n",
    "sqlContext = SQLContext(sc)\n",
    "\n",
    "dfspark = sqlContext.read.format(\"csv\").option(\"header\", \"true\").option(\"inferSchema\", \"true\").load(\"C:/Users/Mayo/Documents/base_datos_2008.csv\")\n",
    "dfspark.spark.sample(fraction = 0.001, withReplacement = False)\n",
    "dfspark = dfspark.witColumn(\"ArrDelay\", dfspark[\"ArrDelay\"].cast(\"integer\"))\n",
    "\n",
    "\n",
    "df2 = dfspark.na.drop(subset = [\"ArrDelay\", \"DepDelay\", \"Distance\"])\n",
    "df2 = df2.filter(\"ArrDelay is not Null\")\n",
    "df2 = df2.dropDuplicates()"
   ]
  },
  {
   "cell_type": "code",
   "execution_count": null,
   "id": "08ac8004",
   "metadata": {},
   "outputs": [],
   "source": [
    "#Las funciones map son aquellas que procesan nuestros datos en particiones, aplicandoles filtros y ordenaciones\n",
    "#Posteriormente las funciones reduce los procesan y los resumen\n",
    "\n",
    "#Array parallelizado de la columna Origin\n",
    "A = sc.parallelize(df2.select(\"Origin\").rdd.collect())"
   ]
  },
  {
   "cell_type": "code",
   "execution_count": null,
   "id": "900c4115",
   "metadata": {},
   "outputs": [],
   "source": [
    "#Convertimos a persistente (acelera el proceso)\n",
    "A.persist()"
   ]
  },
  {
   "cell_type": "code",
   "execution_count": null,
   "id": "47a5ec3d",
   "metadata": {},
   "outputs": [],
   "source": [
    "mapfunction = A.map(lambda x: (x,1))\n",
    "#Regresa el mismo objeto y el numero 1 "
   ]
  },
  {
   "cell_type": "code",
   "execution_count": null,
   "id": "c2c98ae8",
   "metadata": {},
   "outputs": [],
   "source": [
    "mapfunction.collect()"
   ]
  },
  {
   "cell_type": "code",
   "execution_count": null,
   "id": "29186b1c",
   "metadata": {},
   "outputs": [],
   "source": [
    "def fun(x):\n",
    "    if x[0] in [\"SEA\", \"ATL\", \"HOU\"]:\n",
    "        return((x,2))\n",
    "    elif x[0] == \"DEN\":\n",
    "        return((x,3))\n",
    "    else:\n",
    "        return((x,1))"
   ]
  },
  {
   "cell_type": "code",
   "execution_count": null,
   "id": "0cf120e1",
   "metadata": {},
   "outputs": [],
   "source": [
    "mapfunction2 = A.map(fun)"
   ]
  },
  {
   "cell_type": "code",
   "execution_count": null,
   "id": "f34d7305",
   "metadata": {},
   "outputs": [],
   "source": [
    "mapfunction2.collect()"
   ]
  },
  {
   "cell_type": "code",
   "execution_count": null,
   "id": "c9167ef4",
   "metadata": {},
   "outputs": [],
   "source": [
    "#Crea una tabla de frecuencias para cada uno de los origenes\n",
    "reducefunction = mapfunction.reduceByKey(lambda x,y: x+y)"
   ]
  },
  {
   "cell_type": "code",
   "execution_count": null,
   "id": "2fa401fe",
   "metadata": {},
   "outputs": [],
   "source": [
    "reducefunction2 = mapfunction2.reduceByKey(lambda x,y: x+y)"
   ]
  },
  {
   "cell_type": "code",
   "execution_count": null,
   "id": "b6761dd4",
   "metadata": {},
   "outputs": [],
   "source": [
    "reducefunction.collect()"
   ]
  },
  {
   "cell_type": "code",
   "execution_count": null,
   "id": "a138cb95",
   "metadata": {},
   "outputs": [],
   "source": [
    "reducefunction2.collect()"
   ]
  },
  {
   "cell_type": "code",
   "execution_count": null,
   "id": "b9a579a2",
   "metadata": {},
   "outputs": [],
   "source": [
    "reducefunction.sortByKey().take(10)"
   ]
  },
  {
   "cell_type": "code",
   "execution_count": null,
   "id": "3f7cdc10",
   "metadata": {},
   "outputs": [],
   "source": [
    "#La funcion lambda los ordena ascendentemente\n",
    "reducefunction.sortBy(lambda x: x[1], ascending=False).take(10)"
   ]
  }
 ],
 "metadata": {
  "kernelspec": {
   "display_name": "Python 3 (ipykernel)",
   "language": "python",
   "name": "python3"
  },
  "language_info": {
   "codemirror_mode": {
    "name": "ipython",
    "version": 3
   },
   "file_extension": ".py",
   "mimetype": "text/x-python",
   "name": "python",
   "nbconvert_exporter": "python",
   "pygments_lexer": "ipython3",
   "version": "3.9.12"
  }
 },
 "nbformat": 4,
 "nbformat_minor": 5
}
