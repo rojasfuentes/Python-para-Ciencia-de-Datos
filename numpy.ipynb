{
 "cells": [
  {
   "cell_type": "code",
   "execution_count": 1,
   "id": "f09d3e49",
   "metadata": {},
   "outputs": [],
   "source": [
    "import numpy as np\n",
    "#Uno de sus usos es para trabajar con matrices "
   ]
  },
  {
   "cell_type": "code",
   "execution_count": 3,
   "id": "debdc5a3",
   "metadata": {},
   "outputs": [
    {
     "data": {
      "text/plain": [
       "array([[8, 7, 8, 5],\n",
       "       [2, 6, 8, 1],\n",
       "       [8, 8, 9, 5]])"
      ]
     },
     "execution_count": 3,
     "metadata": {},
     "output_type": "execute_result"
    }
   ],
   "source": [
    "valoraciones = np.array([[8,7,8,5], [2,6,8,1], [8,8,9,5]])\n",
    "valoraciones"
   ]
  },
  {
   "cell_type": "code",
   "execution_count": 4,
   "id": "61fee3c6",
   "metadata": {},
   "outputs": [
    {
     "data": {
      "text/plain": [
       "8"
      ]
     },
     "execution_count": 4,
     "metadata": {},
     "output_type": "execute_result"
    }
   ],
   "source": [
    "#Para acceder a los datos \n",
    "valoraciones [0][0]"
   ]
  },
  {
   "cell_type": "code",
   "execution_count": 6,
   "id": "acd0ca79",
   "metadata": {},
   "outputs": [
    {
     "data": {
      "text/plain": [
       "8"
      ]
     },
     "execution_count": 6,
     "metadata": {},
     "output_type": "execute_result"
    }
   ],
   "source": [
    "#También se puede acceder así:\n",
    "valoraciones [0,0]"
   ]
  },
  {
   "cell_type": "code",
   "execution_count": 9,
   "id": "f7c9606d",
   "metadata": {},
   "outputs": [],
   "source": [
    "valoraciones2 = np.array([[[8,7,8,5], [2,5,5,2]], [[2,6,8,4], [8,8,9,3]], [[10,9,10,8], [1,2,3,4]]])"
   ]
  },
  {
   "cell_type": "code",
   "execution_count": 11,
   "id": "b519c1ae",
   "metadata": {},
   "outputs": [
    {
     "data": {
      "text/plain": [
       "array([[[ 8,  7,  8,  5],\n",
       "        [ 2,  5,  5,  2]],\n",
       "\n",
       "       [[ 2,  6,  8,  4],\n",
       "        [ 8,  8,  9,  3]],\n",
       "\n",
       "       [[10,  9, 10,  8],\n",
       "        [ 1,  2,  3,  4]]])"
      ]
     },
     "execution_count": 11,
     "metadata": {},
     "output_type": "execute_result"
    }
   ],
   "source": [
    "valoraciones2"
   ]
  },
  {
   "cell_type": "code",
   "execution_count": 18,
   "id": "dd850656",
   "metadata": {},
   "outputs": [
    {
     "data": {
      "text/plain": [
       "2"
      ]
     },
     "execution_count": 18,
     "metadata": {},
     "output_type": "execute_result"
    }
   ],
   "source": [
    "valoraciones2[0,1,3]"
   ]
  },
  {
   "cell_type": "code",
   "execution_count": 19,
   "id": "450a5727",
   "metadata": {},
   "outputs": [
    {
     "data": {
      "text/plain": [
       "array([[[0., 0., 0., 0.],\n",
       "        [0., 0., 0., 0.]],\n",
       "\n",
       "       [[0., 0., 0., 0.],\n",
       "        [0., 0., 0., 0.]],\n",
       "\n",
       "       [[0., 0., 0., 0.],\n",
       "        [0., 0., 0., 0.]]])"
      ]
     },
     "execution_count": 19,
     "metadata": {},
     "output_type": "execute_result"
    }
   ],
   "source": [
    "#Podemos crear arrays vacios\n",
    "np.zeros((3,2,4))"
   ]
  },
  {
   "cell_type": "code",
   "execution_count": 21,
   "id": "f7de7821",
   "metadata": {},
   "outputs": [
    {
     "data": {
      "text/plain": [
       "array([[[ 9.,  8.,  9.,  6.],\n",
       "        [ 3.,  6.,  6.,  3.]],\n",
       "\n",
       "       [[ 3.,  7.,  9.,  5.],\n",
       "        [ 9.,  9., 10.,  4.]],\n",
       "\n",
       "       [[11., 10., 11.,  9.],\n",
       "        [ 2.,  3.,  4.,  5.]]])"
      ]
     },
     "execution_count": 21,
     "metadata": {},
     "output_type": "execute_result"
    }
   ],
   "source": [
    "#Podemos hacer operaciones entre arrays\n",
    "#En este caso, sumamos 1 \n",
    "valoraciones2 + np.ones((3,2,4))"
   ]
  },
  {
   "cell_type": "code",
   "execution_count": 22,
   "id": "c2111fd1",
   "metadata": {},
   "outputs": [
    {
     "data": {
      "text/plain": [
       "6.25"
      ]
     },
     "execution_count": 22,
     "metadata": {},
     "output_type": "execute_result"
    }
   ],
   "source": [
    "#También podemos palicar otras funciones, como sacar su media\n",
    "np.mean(valoraciones)"
   ]
  },
  {
   "cell_type": "code",
   "execution_count": 23,
   "id": "55fbb98c",
   "metadata": {},
   "outputs": [
    {
     "data": {
      "text/plain": [
       "array([[6.66666667, 7.33333333, 8.66666667, 5.66666667],\n",
       "       [3.66666667, 5.        , 5.66666667, 3.        ]])"
      ]
     },
     "execution_count": 23,
     "metadata": {},
     "output_type": "execute_result"
    }
   ],
   "source": [
    "#Podemos calcular la media de sus distintos ejes \n",
    "np.mean(valoraciones2, axis=0)"
   ]
  },
  {
   "cell_type": "code",
   "execution_count": 24,
   "id": "92c523d3",
   "metadata": {},
   "outputs": [
    {
     "data": {
      "text/plain": [
       "array([[5. , 6. , 6.5, 3.5],\n",
       "       [5. , 7. , 8.5, 3.5],\n",
       "       [5.5, 5.5, 6.5, 6. ]])"
      ]
     },
     "execution_count": 24,
     "metadata": {},
     "output_type": "execute_result"
    }
   ],
   "source": [
    "np.mean(valoraciones2, axis=1)"
   ]
  },
  {
   "cell_type": "code",
   "execution_count": 25,
   "id": "b31fba50",
   "metadata": {},
   "outputs": [
    {
     "data": {
      "text/plain": [
       "array([[7.  , 3.5 ],\n",
       "       [5.  , 7.  ],\n",
       "       [9.25, 2.5 ]])"
      ]
     },
     "execution_count": 25,
     "metadata": {},
     "output_type": "execute_result"
    }
   ],
   "source": [
    "np.mean(valoraciones2, axis=2)"
   ]
  },
  {
   "cell_type": "code",
   "execution_count": 26,
   "id": "25ddd14b",
   "metadata": {},
   "outputs": [
    {
     "data": {
      "text/plain": [
       "array([[[ 1,  2],\n",
       "        [ 3,  4]],\n",
       "\n",
       "       [[ 5,  6],\n",
       "        [ 7,  8]],\n",
       "\n",
       "       [[ 9, 10],\n",
       "        [11, 12]]])"
      ]
     },
     "execution_count": 26,
     "metadata": {},
     "output_type": "execute_result"
    }
   ],
   "source": [
    "#reshape nos permite convertir una lista a un array con las dimensiones que indiquemos\n",
    "np.reshape([1,2,3,4,5,6,7,8,9,10,11,12], (3,2,2))"
   ]
  },
  {
   "cell_type": "code",
   "execution_count": null,
   "id": "aeeff872",
   "metadata": {},
   "outputs": [],
   "source": [
    "# np.median nos da la mediana\n",
    "np.median(df[\"Columna1\"])"
   ]
  },
  {
   "cell_type": "code",
   "execution_count": 29,
   "id": "37ed075f",
   "metadata": {},
   "outputs": [
    {
     "data": {
      "text/plain": [
       "array([[0.63350806, 0.31207096],\n",
       "       [0.82181365, 0.93604272]])"
      ]
     },
     "execution_count": 29,
     "metadata": {},
     "output_type": "execute_result"
    }
   ],
   "source": [
    "# np.randopm nos permite generar objetos aleatorios\n",
    "np.random.rand(2,2)"
   ]
  },
  {
   "cell_type": "code",
   "execution_count": null,
   "id": "2b3fe8e1",
   "metadata": {},
   "outputs": [],
   "source": []
  }
 ],
 "metadata": {
  "kernelspec": {
   "display_name": "Python 3 (ipykernel)",
   "language": "python",
   "name": "python3"
  },
  "language_info": {
   "codemirror_mode": {
    "name": "ipython",
    "version": 3
   },
   "file_extension": ".py",
   "mimetype": "text/x-python",
   "name": "python",
   "nbconvert_exporter": "python",
   "pygments_lexer": "ipython3",
   "version": "3.9.12"
  }
 },
 "nbformat": 4,
 "nbformat_minor": 5
}
