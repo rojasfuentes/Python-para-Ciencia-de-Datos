{
 "cells": [
  {
   "cell_type": "code",
   "execution_count": 1,
   "id": "8ad08c89",
   "metadata": {},
   "outputs": [],
   "source": [
    "import pandas as pd\n",
    "import numpy as np\n",
    "df = pd.read_csv(\"C:/Users/Mayo/Documents/base_datos_2008.csv\", nrows = 100000)"
   ]
  },
  {
   "cell_type": "code",
   "execution_count": 2,
   "id": "348de735",
   "metadata": {},
   "outputs": [],
   "source": [
    "#Extraemos una columna y eliminamos lo datos faltantes de ella \n",
    "x = df[\"ArrDelay\"].dropna()"
   ]
  },
  {
   "cell_type": "code",
   "execution_count": 5,
   "id": "09b190ff",
   "metadata": {},
   "outputs": [],
   "source": [
    "#Separamos por cuartiles\n",
    "#Los cuartiles son una medida estadistica que separan los datos en cuatro partes \n",
    "#En la primera linea especificamos que separe el 15% inferior del 75% superior \n",
    "#La mediana es el segundo cuartil \n",
    "Q1 = np.percentile(x,25)\n",
    "Q3 = np.percentile(x, 75)\n",
    "rangointer = Q3 - Q1\n",
    "#El rango intercuartilico es la diferencia entre el tercer cuartil y el primero "
   ]
  },
  {
   "cell_type": "code",
   "execution_count": 7,
   "id": "472066c9",
   "metadata": {},
   "outputs": [],
   "source": [
    "#Necesitamos esas medidas para definir los umbrales\n",
    "umbralsuperior = Q3 + 1.5*rangointer\n",
    "umbralinferior = Q1 - 1.5*rangointer"
   ]
  },
  {
   "cell_type": "code",
   "execution_count": 8,
   "id": "8d098d25",
   "metadata": {},
   "outputs": [
    {
     "data": {
      "text/plain": [
       "38.5"
      ]
     },
     "execution_count": 8,
     "metadata": {},
     "output_type": "execute_result"
    }
   ],
   "source": [
    "umbralsuperior\n",
    "#cuaklquier dato por encima de 38.5 va a ser un outlier"
   ]
  },
  {
   "cell_type": "code",
   "execution_count": 9,
   "id": "cb2519b8",
   "metadata": {},
   "outputs": [
    {
     "data": {
      "text/plain": [
       "-37.5"
      ]
     },
     "execution_count": 9,
     "metadata": {},
     "output_type": "execute_result"
    }
   ],
   "source": [
    "umbralinferior\n",
    "#cuaklquier dato por debajo de -37.5 va a ser un outlier"
   ]
  },
  {
   "cell_type": "code",
   "execution_count": 10,
   "id": "c0941eda",
   "metadata": {},
   "outputs": [
    {
     "data": {
      "text/plain": [
       "0.08387201361729721"
      ]
     },
     "execution_count": 10,
     "metadata": {},
     "output_type": "execute_result"
    }
   ],
   "source": [
    "#Comprobamos cuantos datos hay por encima o debajo de los umbrales \n",
    "np.mean(x > umbralsuperior)\n",
    "#el 8% de los casos estan por encima"
   ]
  },
  {
   "cell_type": "code",
   "execution_count": 12,
   "id": "eb548446",
   "metadata": {},
   "outputs": [
    {
     "data": {
      "text/plain": [
       "0.0019048005025431114"
      ]
     },
     "execution_count": 12,
     "metadata": {},
     "output_type": "execute_result"
    }
   ],
   "source": [
    "np.mean(x < umbralinferior)\n",
    "#Casi el 1% esta por debajo "
   ]
  },
  {
   "cell_type": "code",
   "execution_count": 13,
   "id": "60220a33",
   "metadata": {},
   "outputs": [],
   "source": [
    "from sklearn.covariance import EllipticEnvelope"
   ]
  },
  {
   "cell_type": "code",
   "execution_count": 15,
   "id": "da8be7b7",
   "metadata": {},
   "outputs": [],
   "source": [
    "#Creamos un modelo que va a seleccionar el 1% de los datos que considere que estan muy alejados de nuestros datos más centrados \n",
    "outliers = EllipticEnvelope(contamination = 0.1 )"
   ]
  },
  {
   "cell_type": "code",
   "execution_count": 20,
   "id": "6f310e01",
   "metadata": {},
   "outputs": [],
   "source": [
    "#Definimos una lista con un grupo de variables de nuestros datos , estan distribuidas gausianamente\n",
    "var_list = [\"DepDelay\", \"TaxiIn\", \"TaxiOut\", \"CarrierDelay\", \"WeatherDelay\", \"NASDelay\", \"SecurityDelay\", \"LateAircraftDelay\"]"
   ]
  },
  {
   "cell_type": "code",
   "execution_count": 21,
   "id": "b1737726",
   "metadata": {},
   "outputs": [],
   "source": [
    "#Son los valores que nos interesan de nuestra bdd \n",
    "x = np.array(df.loc[:,var_list].dropna())"
   ]
  },
  {
   "cell_type": "code",
   "execution_count": 22,
   "id": "1e717587",
   "metadata": {},
   "outputs": [
    {
     "data": {
      "text/plain": [
       "EllipticEnvelope()"
      ]
     },
     "execution_count": 22,
     "metadata": {},
     "output_type": "execute_result"
    }
   ],
   "source": [
    "#Entrenamos nuestro modelo\n",
    "outliers.fit(x)"
   ]
  },
  {
   "cell_type": "code",
   "execution_count": 23,
   "id": "65ff1910",
   "metadata": {},
   "outputs": [],
   "source": [
    "#Prediga cuales valores forman \n",
    "pred = outliers.predict(x)"
   ]
  },
  {
   "cell_type": "code",
   "execution_count": 24,
   "id": "0433d230",
   "metadata": {},
   "outputs": [
    {
     "data": {
      "text/plain": [
       "array([1, 1, 1, ..., 1, 1, 1])"
      ]
     },
     "execution_count": 24,
     "metadata": {},
     "output_type": "execute_result"
    }
   ],
   "source": [
    "pred"
   ]
  },
  {
   "cell_type": "code",
   "execution_count": 25,
   "id": "186ac507",
   "metadata": {},
   "outputs": [],
   "source": [
    "#detectamos los -1\n",
    "elips_outliers = np.where(pred == -1)[0]"
   ]
  },
  {
   "cell_type": "code",
   "execution_count": 26,
   "id": "59342f92",
   "metadata": {},
   "outputs": [
    {
     "data": {
      "text/plain": [
       "array([   12,    15,    18, ..., 19588, 19589, 19613], dtype=int64)"
      ]
     },
     "execution_count": 26,
     "metadata": {},
     "output_type": "execute_result"
    }
   ],
   "source": [
    "elips_outliers\n",
    "#Los outliers son datos alejados de los valores principales "
   ]
  },
  {
   "cell_type": "code",
   "execution_count": null,
   "id": "9232bff8",
   "metadata": {},
   "outputs": [],
   "source": []
  }
 ],
 "metadata": {
  "kernelspec": {
   "display_name": "Python 3 (ipykernel)",
   "language": "python",
   "name": "python3"
  },
  "language_info": {
   "codemirror_mode": {
    "name": "ipython",
    "version": 3
   },
   "file_extension": ".py",
   "mimetype": "text/x-python",
   "name": "python",
   "nbconvert_exporter": "python",
   "pygments_lexer": "ipython3",
   "version": "3.9.12"
  }
 },
 "nbformat": 4,
 "nbformat_minor": 5
}
