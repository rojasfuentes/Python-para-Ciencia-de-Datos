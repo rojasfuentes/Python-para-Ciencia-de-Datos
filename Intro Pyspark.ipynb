{
 "cells": [
  {
   "cell_type": "code",
   "execution_count": null,
   "id": "e428af90",
   "metadata": {},
   "outputs": [],
   "source": [
    "from pyspark import SparkConf, SparkContext\n",
    "conf = SparkConf().setMaster(\"local\").setAppName(\"Mi programa\")\n",
    "sc = SparkContext(conf = conf)\n",
    "lines = sc.textFile(\"ejemplo.txt\")"
   ]
  },
  {
   "cell_type": "code",
   "execution_count": null,
   "id": "168e9128",
   "metadata": {},
   "outputs": [],
   "source": [
    "#Busca en cada una de las lineas de texto la palabra \"Python\"\n",
    "resultado = lines.filter(lambda line : \"Python\" in line)"
   ]
  },
  {
   "cell_type": "code",
   "execution_count": null,
   "id": "b0ae63ee",
   "metadata": {},
   "outputs": [],
   "source": [
    "resultado.count()"
   ]
  },
  {
   "cell_type": "code",
   "execution_count": null,
   "id": "970b4ba4",
   "metadata": {},
   "outputs": [],
   "source": [
    "resultado.take(3)"
   ]
  },
  {
   "cell_type": "code",
   "execution_count": null,
   "id": "6f326f27",
   "metadata": {},
   "outputs": [],
   "source": [
    "#Vemos si aparecen numeros \n",
    "lines.filter(lambda x: int() in x).take(2)\n",
    "#.take(n) muestra el numero de apariciones"
   ]
  },
  {
   "cell_type": "code",
   "execution_count": null,
   "id": "eb2b1f68",
   "metadata": {},
   "outputs": [],
   "source": [
    "#x es cada una de las filas en el archivo de texto \n",
    "#Evaluamos caracter por caracter si es un número o no \n",
    "lines.filter(lambda x: any(i.isdigit() for i in x)).count()\n",
    "#.count( dice cuantas veces aparece )"
   ]
  },
  {
   "cell_type": "code",
   "execution_count": null,
   "id": "1965016c",
   "metadata": {},
   "outputs": [],
   "source": [
    "numeros = lines.filter(lambda x: any(i.isdigit() for i in x))"
   ]
  },
  {
   "cell_type": "code",
   "execution_count": null,
   "id": "d733c0f9",
   "metadata": {},
   "outputs": [],
   "source": [
    "#Indicamos que el numero sea persistente en memoria para que luego sea más rápido acceder a el \n",
    "numeros.persis()"
   ]
  }
 ],
 "metadata": {
  "kernelspec": {
   "display_name": "Python 3 (ipykernel)",
   "language": "python",
   "name": "python3"
  },
  "language_info": {
   "codemirror_mode": {
    "name": "ipython",
    "version": 3
   },
   "file_extension": ".py",
   "mimetype": "text/x-python",
   "name": "python",
   "nbconvert_exporter": "python",
   "pygments_lexer": "ipython3",
   "version": "3.9.12"
  }
 },
 "nbformat": 4,
 "nbformat_minor": 5
}
