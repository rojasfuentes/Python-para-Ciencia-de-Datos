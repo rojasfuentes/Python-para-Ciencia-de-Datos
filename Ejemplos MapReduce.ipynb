{
 "cells": [
  {
   "cell_type": "code",
   "execution_count": null,
   "id": "5a20b6b5",
   "metadata": {},
   "outputs": [],
   "source": [
    "from pyspark import SparkConf, SparkContext\n",
    "from pyspark.sql.types import StringType\n",
    "from pyspark import SQLContext\n",
    "\n",
    "conf = SparkConf().setMaster(\"local\").setAppName(\"Mi programa\")\n",
    "sc = SparkContext(conf = conf)\n",
    "sqlContext = SQLContext(sc)"
   ]
  },
  {
   "cell_type": "code",
   "execution_count": null,
   "id": "fd0b8831",
   "metadata": {},
   "outputs": [],
   "source": [
    "lines = sc.textFile(\"ejemplo.txt\")\n",
    "#lines = lines.repartition(3)\n",
    "lines.getNumPartitions()"
   ]
  },
  {
   "cell_type": "code",
   "execution_count": null,
   "id": "eb81235a",
   "metadata": {},
   "outputs": [],
   "source": [
    "py = sc.acumulator(0)\n",
    "sp = sc.accumulator(0)\n",
    "\n",
    "def lenguajes(linea:):\n",
    "    global py, sp\n",
    "    if \"Python\" in linea:\n",
    "        py += 1\n",
    "        if \"Spark\" in linea:\n",
    "        sp += 1\n",
    "        return True\n",
    "    if \"Spark\" in linea:\n",
    "        sp += 1\n",
    "        return True\n",
    "    else:\n",
    "        return False \n",
    "    \n",
    "valores = lines.filter(lenguajes)"
   ]
  },
  {
   "cell_type": "code",
   "execution_count": null,
   "id": "a66840bd",
   "metadata": {},
   "outputs": [],
   "source": [
    "valores.collect()"
   ]
  },
  {
   "cell_type": "code",
   "execution_count": null,
   "id": "7c6520ec",
   "metadata": {},
   "outputs": [],
   "source": [
    "py"
   ]
  },
  {
   "cell_type": "code",
   "execution_count": null,
   "id": "e1356339",
   "metadata": {},
   "outputs": [],
   "source": [
    "sp"
   ]
  },
  {
   "cell_type": "code",
   "execution_count": null,
   "id": "726248eb",
   "metadata": {},
   "outputs": [],
   "source": [
    "functionmap = valores.map(lambda x; (x,1))"
   ]
  },
  {
   "cell_type": "code",
   "execution_count": null,
   "id": "e066b023",
   "metadata": {},
   "outputs": [],
   "source": [
    "contravalores = funcionmap.reduceByKey(lambda x,y: x+y)"
   ]
  },
  {
   "cell_type": "code",
   "execution_count": null,
   "id": "d0cdb60c",
   "metadata": {},
   "outputs": [],
   "source": [
    "contravalores.count()"
   ]
  }
 ],
 "metadata": {
  "kernelspec": {
   "display_name": "Python 3 (ipykernel)",
   "language": "python",
   "name": "python3"
  },
  "language_info": {
   "codemirror_mode": {
    "name": "ipython",
    "version": 3
   },
   "file_extension": ".py",
   "mimetype": "text/x-python",
   "name": "python",
   "nbconvert_exporter": "python",
   "pygments_lexer": "ipython3",
   "version": "3.9.12"
  }
 },
 "nbformat": 4,
 "nbformat_minor": 5
}
