{
 "cells": [
  {
   "cell_type": "code",
   "execution_count": null,
   "id": "b031ef98",
   "metadata": {},
   "outputs": [],
   "source": [
    "from pyspark import SparkConf, SparkContext\n",
    "from pyspark.sql.types import StringType\n",
    "from pyspark import SQLContext\n",
    "import numpy as np\n",
    "\n",
    "conf= SparkConf().setMaster(\"local\").setAppName(\"Mi programa\")\n",
    "sc = SparkContext(conf = conf)\n",
    "sqlContext = SQLContext(sc)\n",
    "\n",
    "dfspark = sqlContext.read.format(\"csv\").option(\"header\", \"true\").option(\"inferSchema\", \"true\").load(\"C:/Users/Mayo/Documents/base_datos_2008.csv\")\n",
    "dfspark.spark.sample(fraction = 0.001, withReplacement = False)\n",
    "dfspark = dfspark.witColumn(\"ArrDelay\", dfspark[\"ArrDelay\"].cast(\"integer\"))\n",
    "\n",
    "\n",
    "df2 = dfspark.na.drop(subset = [\"ArrDelay\", \"DepDelay\", \"Distance\"])\n",
    "df2 = df2.filter(\"ArrDelay is not Null\")\n",
    "df2 = df2.dropDuplicates()"
   ]
  },
  {
   "cell_type": "code",
   "execution_count": null,
   "id": "abc8aabd",
   "metadata": {},
   "outputs": [],
   "source": [
    "df2.select(\"ArrDelay\").filter(\"ArrDelay >60\").take(5)"
   ]
  },
  {
   "cell_type": "code",
   "execution_count": null,
   "id": "93fcda4c",
   "metadata": {},
   "outputs": [],
   "source": [
    "df2.filter(\"ArrDelay >60\").take(5)"
   ]
  },
  {
   "cell_type": "code",
   "execution_count": null,
   "id": "ff02638c",
   "metadata": {},
   "outputs": [],
   "source": [
    "#Primero indicamos que recoja todos los valores de la columna y luego le aplique el metodo de la linea 2\n",
    "media = np.mean(df2.select('ArrDelat').collect())\n",
    "df2.select(\"ArrDelay\").rdd.map(lambda x: (x - media)**2).take(10)"
   ]
  },
  {
   "cell_type": "code",
   "execution_count": null,
   "id": "0285b8f8",
   "metadata": {},
   "outputs": [],
   "source": [
    "df2.groupBy(\"DayOfWeek\").count().show()"
   ]
  },
  {
   "cell_type": "code",
   "execution_count": null,
   "id": "ee9a4363",
   "metadata": {},
   "outputs": [],
   "source": [
    "df2.groupBy(\"DayOfWeek\").mean(\"ArrDelay\").show()"
   ]
  },
  {
   "cell_type": "code",
   "execution_count": null,
   "id": "f945e115",
   "metadata": {},
   "outputs": [],
   "source": [
    "df2.select(\"Origin\").rdd.distinct().take(5)"
   ]
  },
  {
   "cell_type": "code",
   "execution_count": null,
   "id": "49ef4144",
   "metadata": {},
   "outputs": [],
   "source": [
    "df2.select(\"Origin\").rdd.distinct().count()"
   ]
  },
  {
   "cell_type": "code",
   "execution_count": null,
   "id": "4d174c3b",
   "metadata": {},
   "outputs": [],
   "source": [
    "df2.orderBy(df2.ArrDelay.desc()).take(5)"
   ]
  }
 ],
 "metadata": {
  "kernelspec": {
   "display_name": "Python 3 (ipykernel)",
   "language": "python",
   "name": "python3"
  },
  "language_info": {
   "codemirror_mode": {
    "name": "ipython",
    "version": 3
   },
   "file_extension": ".py",
   "mimetype": "text/x-python",
   "name": "python",
   "nbconvert_exporter": "python",
   "pygments_lexer": "ipython3",
   "version": "3.9.12"
  }
 },
 "nbformat": 4,
 "nbformat_minor": 5
}
