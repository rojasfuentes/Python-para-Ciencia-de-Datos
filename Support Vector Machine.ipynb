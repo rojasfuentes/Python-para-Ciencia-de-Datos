{
 "cells": [
  {
   "cell_type": "code",
   "execution_count": 1,
   "id": "e5c3070c",
   "metadata": {},
   "outputs": [],
   "source": [
    "#Es un metodo no probabilistico de clasificacion binaria linean o no lineal\n",
    "#Divide a los grupos mediante una recta \n",
    "\n",
    "from sklearn.svm import SVC\n",
    "import numpy as np\n",
    "import pandas as pd\n",
    "\n",
    "df = pd.read_csv(\"C:/Users/Mayo/Documents/base_datos_2008.csv\")\n",
    "df = df.dropna(subset=[\"ArrDelay\"])\n",
    "#Mexclamos la bdd\n",
    "df= df.sample(frac=1)\n",
    "df_test = df.tail(1000)\n",
    "df = df.head(1000)\n"
   ]
  },
  {
   "cell_type": "code",
   "execution_count": 7,
   "id": "23e725a2",
   "metadata": {},
   "outputs": [],
   "source": [
    "X = df[[\"Distance\", \"AirTime\", \"DepTime\", \"TaxiIn\", \"TaxiOut\",\"DepDelay\"]]\n",
    "X_test = df_testX = df[[\"Distance\", \"AirTime\", \"DepTime\", \"TaxiIn\", \"TaxiOut\",\"DepDelay\"]]\n",
    "\n",
    "#Vuelos que se retrasaron más de 10 min \n",
    "Y = df[\"ArrDelay\"] > 10\n",
    "Y_test = df_test[\"ArrDelay\"] > 10\n",
    "\n",
    "#Se ajusta al modelo con esta función\n",
    "clf = SVC(kernel = \"linear\") #kernel = \"lineal\" <------------------------\n",
    "clf.fit(X, Y)\n",
    "\n",
    "Y_pred = clf.predict(X_test)\n",
    "#C / Kernel)"
   ]
  },
  {
   "cell_type": "code",
   "execution_count": 8,
   "id": "0c172db0",
   "metadata": {},
   "outputs": [
    {
     "data": {
      "text/plain": [
       "0.631"
      ]
     },
     "execution_count": 8,
     "metadata": {},
     "output_type": "execute_result"
    }
   ],
   "source": [
    "#Potencial predictivo\n",
    "np.mean(Y_pred == Y_test)"
   ]
  },
  {
   "cell_type": "code",
   "execution_count": null,
   "id": "a0005ef8",
   "metadata": {},
   "outputs": [],
   "source": [
    "#Distintos tipos de kernel\n",
    "\n",
    "#http://scikit-learb.org/stable/modules/svm.html#svm-kernels\n",
    "\n",
    "#linear / poly / rbf/ sigmod -> Asociados a otro parametros\n",
    "\n",
    "#Para kertnels lineales -> LinearSVC()"
   ]
  }
 ],
 "metadata": {
  "kernelspec": {
   "display_name": "Python 3 (ipykernel)",
   "language": "python",
   "name": "python3"
  },
  "language_info": {
   "codemirror_mode": {
    "name": "ipython",
    "version": 3
   },
   "file_extension": ".py",
   "mimetype": "text/x-python",
   "name": "python",
   "nbconvert_exporter": "python",
   "pygments_lexer": "ipython3",
   "version": "3.9.12"
  }
 },
 "nbformat": 4,
 "nbformat_minor": 5
}
